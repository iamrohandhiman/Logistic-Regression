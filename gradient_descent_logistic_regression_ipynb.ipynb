{
  "nbformat": 4,
  "nbformat_minor": 0,
  "metadata": {
    "colab": {
      "provenance": []
    },
    "kernelspec": {
      "name": "python3",
      "display_name": "Python 3"
    },
    "language_info": {
      "name": "python"
    }
  },
  "cells": [
    {
      "cell_type": "code",
      "execution_count": null,
      "metadata": {
        "colab": {
          "base_uri": "https://localhost:8080/"
        },
        "id": "hdiF8p1IvsYA",
        "outputId": "3daa0a0d-5750-41c9-d4ad-99cbb669fde9"
      },
      "outputs": [
        {
          "output_type": "stream",
          "name": "stdout",
          "text": [
            "Collecting scienceplots\n",
            "  Downloading SciencePlots-2.1.1-py3-none-any.whl (16 kB)\n",
            "Requirement already satisfied: matplotlib in /usr/local/lib/python3.10/dist-packages (from scienceplots) (3.7.1)\n",
            "Requirement already satisfied: contourpy>=1.0.1 in /usr/local/lib/python3.10/dist-packages (from matplotlib->scienceplots) (1.2.0)\n",
            "Requirement already satisfied: cycler>=0.10 in /usr/local/lib/python3.10/dist-packages (from matplotlib->scienceplots) (0.12.1)\n",
            "Requirement already satisfied: fonttools>=4.22.0 in /usr/local/lib/python3.10/dist-packages (from matplotlib->scienceplots) (4.45.1)\n",
            "Requirement already satisfied: kiwisolver>=1.0.1 in /usr/local/lib/python3.10/dist-packages (from matplotlib->scienceplots) (1.4.5)\n",
            "Requirement already satisfied: numpy>=1.20 in /usr/local/lib/python3.10/dist-packages (from matplotlib->scienceplots) (1.23.5)\n",
            "Requirement already satisfied: packaging>=20.0 in /usr/local/lib/python3.10/dist-packages (from matplotlib->scienceplots) (23.2)\n",
            "Requirement already satisfied: pillow>=6.2.0 in /usr/local/lib/python3.10/dist-packages (from matplotlib->scienceplots) (9.4.0)\n",
            "Requirement already satisfied: pyparsing>=2.3.1 in /usr/local/lib/python3.10/dist-packages (from matplotlib->scienceplots) (3.1.1)\n",
            "Requirement already satisfied: python-dateutil>=2.7 in /usr/local/lib/python3.10/dist-packages (from matplotlib->scienceplots) (2.8.2)\n",
            "Requirement already satisfied: six>=1.5 in /usr/local/lib/python3.10/dist-packages (from python-dateutil>=2.7->matplotlib->scienceplots) (1.16.0)\n",
            "Installing collected packages: scienceplots\n",
            "Successfully installed scienceplots-2.1.1\n"
          ]
        }
      ],
      "source": [
        "import numpy as np\n",
        "import time\n",
        "import matplotlib.pyplot as plt\n",
        "!pip install scienceplots\n",
        "import scienceplots as sp\n",
        "import sys\n",
        "plt.style.use(['science','notebook','grid'])\n",
        "\n"
      ]
    },
    {
      "cell_type": "code",
      "source": [
        "x_train = np.array([[1,2],[2,1],[3,-0],[2,3],[3,2],[4,1]])\n",
        "y_train = np.array([0,0,0,1,1,1])"
      ],
      "metadata": {
        "id": "yo_kKb4dxONp"
      },
      "execution_count": null,
      "outputs": []
    },
    {
      "cell_type": "code",
      "source": [
        "def compute_cost_vectorized(x,y,w,b):\n",
        "  z = np.dot(x,w)+b\n",
        "  g_z = 1/(1+np.exp(-z))\n",
        "  ep = 1e-8\n",
        "  loss = -y* np.log(g_z + ep)-(1-y)*np.log(1-g_z+ep)\n",
        "  total_loss = np.sum(loss)/x.shape[0]\n",
        "  return total_loss\n"
      ],
      "metadata": {
        "id": "N-UbjSfOxiMW"
      },
      "execution_count": null,
      "outputs": []
    },
    {
      "cell_type": "code",
      "source": [
        "def gradient_descent(x_train, y_train, initial_w, initial_b, alpha=0.01, tol=1e-8):\n",
        "    w = np.array(initial_w)\n",
        "    b = initial_b\n",
        "    current_cost = compute_cost_vectorized(x_train, y_train, w, b)\n",
        "    prev_cost = 0\n",
        "\n",
        "    while abs(current_cost - prev_cost) > tol:\n",
        "        z = np.dot(x_train, w) + b\n",
        "        g_z = 1 / (1 + np.exp(-z))\n",
        "\n",
        "        w = w - alpha * np.dot(x_train.T, g_z - y_train)\n",
        "        b = b - alpha * np.mean(g_z - y_train)\n",
        "\n",
        "        prev_cost = current_cost\n",
        "        current_cost = compute_cost_vectorized(x_train, y_train, w, b)\n",
        "\n",
        "    return w, b , current_cost\n",
        "\n",
        "\n",
        "w = [1, 2]\n",
        "b = 2\n",
        "alpha = 0.01\n",
        "trained_w, trained_b,current_cost = gradient_descent(x_train, y_train, w, b, alpha)"
      ],
      "metadata": {
        "id": "FXRE-hQ-yiUY"
      },
      "execution_count": 81,
      "outputs": []
    },
    {
      "cell_type": "code",
      "source": [
        "print(w)\n",
        "print(b)\n",
        "print(current_cost)"
      ],
      "metadata": {
        "colab": {
          "base_uri": "https://localhost:8080/"
        },
        "id": "3q-cpE_k2XzP",
        "outputId": "fe528903-35dc-466e-8a3e-b7990435f49c"
      },
      "execution_count": 82,
      "outputs": [
        {
          "output_type": "stream",
          "name": "stdout",
          "text": [
            "[1, 2]\n",
            "2\n",
            "0.004050305707584201\n"
          ]
        }
      ]
    },
    {
      "cell_type": "code",
      "source": [
        "w2 = 0\n",
        "b2 = 2\n",
        "x_train_2 = np.array([1,2,3,10,11,12])\n",
        "y_train_2 = np.array([0,0,0,1,1,1])\n",
        "alpha = 0.01\n",
        "trained_w_2, trained_b_2,current_cost_2 = gradient_descent(x_train_2, y_train_2, w2, b2, alpha)\n",
        "print(trained_w_2)\n",
        "print(trained_b_2)\n",
        "print(current_cost_2)"
      ],
      "metadata": {
        "colab": {
          "base_uri": "https://localhost:8080/"
        },
        "id": "-MTBPGdt9uYn",
        "outputId": "5ac482ed-e7f6-47ca-dbd9-18ee2daed262"
      },
      "execution_count": 84,
      "outputs": [
        {
          "output_type": "stream",
          "name": "stdout",
          "text": [
            "1.6164501944502316\n",
            "-9.856109673286225\n",
            "0.0017525204786652876\n"
          ]
        }
      ]
    },
    {
      "cell_type": "code",
      "source": [
        "\n",
        "# Given parameters\n",
        "w = trained_w_2\n",
        "b = trained_b_2\n",
        "\n",
        "# Sigmoid function\n",
        "def sigmoid(x):\n",
        "    return 1 / (1 + np.exp(-w * x - b))\n",
        "\n",
        "# Generate x values for the plot\n",
        "x_values = np.linspace(-10, 15, 100)\n",
        "\n",
        "# Convert x_values to a NumPy array\n",
        "x_values = np.array(x_values)\n",
        "\n",
        "# Compute corresponding y values using the sigmoid function\n",
        "y_values = sigmoid(x_values)\n",
        "\n",
        "\n",
        "\n",
        "\n",
        "fig, ax = plt.subplots(figsize=(4,4))\n",
        "\n",
        "# Plot the sigmoid function\n",
        "ax.plot(x_values, y_values, label='Sigmoid Function', color='black')\n",
        "# Plot the scatter plot of the training data\n",
        "ax.scatter(x_train_2, y_train_2, label='Training Data' ,marker = \"x\" , color = \"red\" )\n",
        "\n",
        "\n",
        "\n",
        "# Set x-axis limits\n",
        "plt.xlim(0, 15)\n",
        "\n",
        "# Set labels and legend\n",
        "ax.set_xlabel('X-axis')\n",
        "ax.set_ylabel('Y-axis')\n",
        "\n",
        "\n",
        "# Show the plot\n",
        "plt.show()\n"
      ],
      "metadata": {
        "colab": {
          "base_uri": "https://localhost:8080/",
          "height": 385
        },
        "id": "6eavTzkJ-j1Y",
        "outputId": "712b0128-0fb4-46da-83b3-f0cb87ed72d7"
      },
      "execution_count": 95,
      "outputs": [
        {
          "output_type": "display_data",
          "data": {
            "text/plain": [
              "<Figure size 400x400 with 1 Axes>"
            ],
            "image/png": "[encoded data removed]"
          },
          "metadata": {}
        }
      ]
    }
  ]
}